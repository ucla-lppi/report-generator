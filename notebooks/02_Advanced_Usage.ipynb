{
 "cells": [
  {
   "cell_type": "markdown",
   "metadata": {},
   "source": [
    "# Advanced Report Generation and Analysis\n",
    "\n",
    "This notebook demonstrates advanced features of the UCLA LPPI Report Generator for researchers and power users.\n",
    "\n",
    "## Contents\n",
    "1. Custom Configuration\n",
    "2. Working with Multiple Counties\n",
    "3. Analyzing Generated Data\n",
    "4. Customizing Output Formats\n",
    "5. Troubleshooting Common Issues"
   ]
  },
  {
   "cell_type": "markdown",
   "metadata": {},
   "source": [
    "## 1. Custom Configuration"
   ]
  },
  {
   "cell_type": "code",
   "execution_count": null,
   "metadata": {},
   "outputs": [],
   "source": [
    "from report_generator import ReportGenerator\n",
    "import os\n",
    "import pandas as pd\n",
    "import matplotlib.pyplot as plt\n",
    "\n",
    "# Custom configuration for different data sources or output locations\n",
    "custom_config = {\n",
    "    'output_dir': 'custom_output',\n",
    "    'geojson_path': 'inputs/geojson/ca_counties_simplified.geojson',\n",
    "    # Add your custom URLs or file paths here\n",
    "    'population_csv_url': 'https://docs.google.com/spreadsheets/d/e/2PACX-1vTDl0u8xAvazJjlCn62edUDjjK1tLwyi4hXihYpYIGOxawrN3_HfzvYKJ1ARzH4AzhrHZysIpkc_1Nc/pub?gid=1869860862&single=true&output=csv'\n",
    "}\n",
    "\n",
    "# Initialize with custom config\n",
    "generator = ReportGenerator(config=custom_config)\n",
    "print(f\"Output directory: {generator.output_dir}\")\n",
    "print(f\"Configuration keys: {list(generator.config.keys())}\")"
   ]
  },
  {
   "cell_type": "markdown",
   "metadata": {},
   "source": [
    "## 2. Working with Multiple Counties"
   ]
  },
  {
   "cell_type": "code",
   "execution_count": null,
   "metadata": {},
   "outputs": [],
   "source": [
    "# Load data\n",
    "generator.load_data(offline_mode=True)  # Set to False when you have connectivity\n",
    "\n",
    "# Get all available counties\n",
    "all_counties = generator.list_available_counties()\n",
    "print(f\"Total available counties: {len(all_counties)}\")\n",
    "\n",
    "# Select specific counties for analysis\n",
    "target_counties = ['Los Angeles', 'San Diego']  # Modify as needed\n",
    "available_targets = [c for c in target_counties if c in all_counties]\n",
    "\n",
    "print(f\"Target counties for analysis: {available_targets}\")\n",
    "\n",
    "# Get summaries for each county\n",
    "county_summaries = []\n",
    "for county in available_targets:\n",
    "    summary = generator.get_county_summary(county)\n",
    "    if 'error' not in summary:\n",
    "        county_summaries.append(summary)\n",
    "        print(f\"\\n{county} Summary:\")\n",
    "        for key, value in summary.items():\n",
    "            print(f\"  {key}: {value}\")\n",
    "\n",
    "print(f\"\\nSuccessfully processed {len(county_summaries)} counties\")"
   ]
  },
  {
   "cell_type": "markdown",
   "metadata": {},
   "source": [
    "## 3. Batch Processing Multiple Counties"
   ]
  },
  {
   "cell_type": "code",
   "execution_count": null,
   "metadata": {},
   "outputs": [],
   "source": [
    "# Process multiple counties in batch\n",
    "batch_results = []\n",
    "\n",
    "for county in available_targets:\n",
    "    print(f\"\\n🏭 Processing {county}...\")\n",
    "    \n",
    "    try:\n",
    "        # Generate reports for individual county\n",
    "        result = generator.generate_full_report(\n",
    "            counties=[county],\n",
    "            include_pdfs=False,\n",
    "            offline_mode=True\n",
    "        )\n",
    "        \n",
    "        result['county'] = county\n",
    "        batch_results.append(result)\n",
    "        \n",
    "        print(f\"✅ {county} completed. Files: {len(result.get('files_generated', []))}\")\n",
    "        \n",
    "    except Exception as e:\n",
    "        print(f\"❌ Error processing {county}: {e}\")\n",
    "        batch_results.append({'county': county, 'error': str(e)})\n",
    "\n",
    "# Summary of batch processing\n",
    "print(\"\\n📊 Batch Processing Summary:\")\n",
    "successful = [r for r in batch_results if 'error' not in r]\n",
    "failed = [r for r in batch_results if 'error' in r]\n",
    "\n",
    "print(f\"Successful: {len(successful)}\")\n",
    "print(f\"Failed: {len(failed)}\")\n",
    "\n",
    "if failed:\n",
    "    print(\"\\nFailed counties:\")\n",
    "    for result in failed:\n",
    "        print(f\"  - {result['county']}: {result['error']}\")"
   ]
  },
  {
   "cell_type": "markdown",
   "metadata": {},
   "source": [
    "## 4. Analyzing Generated Data"
   ]
  },
  {
   "cell_type": "code",
   "execution_count": null,
   "metadata": {},
   "outputs": [],
   "source": [
    "# Analyze the batch results\n",
    "if successful:\n",
    "    print(\"📈 Analysis of Generated Reports:\")\n",
    "    \n",
    "    # Count files by type\n",
    "    file_types = {}\n",
    "    total_files = 0\n",
    "    \n",
    "    for result in successful:\n",
    "        files = result.get('files_generated', [])\n",
    "        total_files += len(files)\n",
    "        \n",
    "        for file_path in files:\n",
    "            ext = os.path.splitext(file_path)[1].lower()\n",
    "            file_types[ext] = file_types.get(ext, 0) + 1\n",
    "    \n",
    "    print(f\"Total files generated: {total_files}\")\n",
    "    print(\"\\nFile types:\")\n",
    "    for ext, count in sorted(file_types.items()):\n",
    "        print(f\"  {ext}: {count} files\")\n",
    "    \n",
    "    # Analyze directory structure\n",
    "    output_dirs = set()\n",
    "    for result in successful:\n",
    "        output_dirs.add(result.get('output_directory', 'unknown'))\n",
    "    \n",
    "    print(f\"\\nOutput directories: {len(output_dirs)}\")\n",
    "    for directory in output_dirs:\n",
    "        if os.path.exists(directory):\n",
    "            subdirs = [d for d in os.listdir(directory) if os.path.isdir(os.path.join(directory, d))]\n",
    "            print(f\"  {directory}: {len(subdirs)} subdirectories\")\n",
    "else:\n",
    "    print(\"No successful results to analyze.\")"
   ]
  },
  {
   "cell_type": "markdown",
   "metadata": {},
   "source": [
    "## 5. Custom Visualization of Results"
   ]
  },
  {
   "cell_type": "code",
   "execution_count": null,
   "metadata": {},
   "outputs": [],
   "source": [
    "# Create visualizations of the processing results\n",
    "if batch_results:\n",
    "    # Success rate visualization\n",
    "    success_count = len(successful)\n",
    "    failure_count = len(failed)\n",
    "    \n",
    "    fig, (ax1, ax2) = plt.subplots(1, 2, figsize=(12, 5))\n",
    "    \n",
    "    # Pie chart of success/failure\n",
    "    labels = ['Successful', 'Failed']\n",
    "    sizes = [success_count, failure_count]\n",
    "    colors = ['#2ecc71', '#e74c3c']\n",
    "    \n",
    "    ax1.pie(sizes, labels=labels, colors=colors, autopct='%1.1f%%', startangle=90)\n",
    "    ax1.set_title('Processing Success Rate')\n",
    "    \n",
    "    # Bar chart of files generated per county\n",
    "    if successful:\n",
    "        counties = [r['county'] for r in successful]\n",
    "        file_counts = [len(r.get('files_generated', [])) for r in successful]\n",
    "        \n",
    "        ax2.bar(counties, file_counts, color='#3498db')\n",
    "        ax2.set_title('Files Generated per County')\n",
    "        ax2.set_xlabel('County')\n",
    "        ax2.set_ylabel('Number of Files')\n",
    "        ax2.tick_params(axis='x', rotation=45)\n",
    "    \n",
    "    plt.tight_layout()\n",
    "    plt.show()\n",
    "    \n",
    "    # Summary statistics\n",
    "    if successful and file_counts:\n",
    "        print(f\"\\n📊 File Generation Statistics:\")\n",
    "        print(f\"Average files per county: {sum(file_counts) / len(file_counts):.1f}\")\n",
    "        print(f\"Max files generated: {max(file_counts)}\")\n",
    "        print(f\"Min files generated: {min(file_counts)}\")\n",
    "else:\n",
    "    print(\"No results to visualize.\")"
   ]
  },
  {
   "cell_type": "markdown",
   "metadata": {},
   "source": [
    "## 6. Working with Different Report Types"
   ]
  },
  {
   "cell_type": "code",
   "execution_count": null,
   "metadata": {},
   "outputs": [],
   "source": [
    "# Generate specific report types\n",
    "if available_targets:\n",
    "    sample_county = available_targets[0]\n",
    "    print(f\"Generating different report types for {sample_county}...\")\n",
    "    \n",
    "    # Heat reports only\n",
    "    print(\"\\n🌡️ Generating heat reports...\")\n",
    "    generator.generate_html_reports('extremeheat', [sample_county])\n",
    "    \n",
    "    # Air pollution reports only\n",
    "    print(\"🏭 Generating air pollution reports...\")\n",
    "    generator.generate_html_reports('airpollution', [sample_county])\n",
    "    \n",
    "    print(\"✅ Specific report types generated\")\n",
    "else:\n",
    "    print(\"No counties available for report generation.\")"
   ]
  },
  {
   "cell_type": "markdown",
   "metadata": {},
   "source": [
    "## 7. Troubleshooting and Diagnostics"
   ]
  },
  {
   "cell_type": "code",
   "execution_count": null,
   "metadata": {},
   "outputs": [],
   "source": [
    "# Diagnostic information\n",
    "print(\"🔍 System Diagnostics:\")\n",
    "\n",
    "# Check required directories\n",
    "required_dirs = ['inputs', 'inputs/geojson', 'templates', 'static']\n",
    "print(\"\\nRequired directories:\")\n",
    "for directory in required_dirs:\n",
    "    exists = os.path.exists(directory)\n",
    "    status = \"✅\" if exists else \"❌\"\n",
    "    print(f\"  {status} {directory}\")\n",
    "\n",
    "# Check key files\n",
    "key_files = [\n",
    "    'report_generator.py',\n",
    "    'main.py', \n",
    "    'flask_app.py',\n",
    "    'requirements.txt'\n",
    "]\n",
    "print(\"\\nKey files:\")\n",
    "for file_path in key_files:\n",
    "    exists = os.path.exists(file_path)\n",
    "    status = \"✅\" if exists else \"❌\"\n",
    "    print(f\"  {status} {file_path}\")\n",
    "\n",
    "# Check output directory\n",
    "output_dir = generator.output_dir\n",
    "print(f\"\\nOutput directory: {output_dir}\")\n",
    "if os.path.exists(output_dir):\n",
    "    subdirs = [d for d in os.listdir(output_dir) if os.path.isdir(os.path.join(output_dir, d))]\n",
    "    print(f\"Subdirectories: {subdirs}\")\n",
    "    \n",
    "    # Count files in output\n",
    "    total_output_files = 0\n",
    "    for root, dirs, files in os.walk(output_dir):\n",
    "        total_output_files += len(files)\n",
    "    print(f\"Total output files: {total_output_files}\")\n",
    "else:\n",
    "    print(\"Output directory does not exist.\")\n",
    "\n",
    "# Memory and performance info\n",
    "import psutil\n",
    "import sys\n",
    "print(f\"\\nSystem info:\")\n",
    "print(f\"Python version: {sys.version.split()[0]}\")\n",
    "print(f\"Available memory: {psutil.virtual_memory().available / (1024**3):.1f} GB\")\n",
    "print(f\"CPU count: {psutil.cpu_count()}\")"
   ]
  },
  {
   "cell_type": "markdown",
   "metadata": {},
   "source": [
    "## 8. Export Summary Report"
   ]
  },
  {
   "cell_type": "code",
   "execution_count": null,
   "metadata": {},
   "outputs": [],
   "source": [
    "# Create a summary report of the analysis session\n",
    "summary_data = {\n",
    "    'session_timestamp': pd.Timestamp.now(),\n",
    "    'counties_attempted': len(batch_results) if batch_results else 0,\n",
    "    'counties_successful': len(successful) if batch_results else 0,\n",
    "    'counties_failed': len(failed) if batch_results else 0,\n",
    "    'total_files_generated': sum(len(r.get('files_generated', [])) for r in successful) if batch_results else 0,\n",
    "    'output_directory': generator.output_dir,\n",
    "    'configuration_used': str(generator.config)\n",
    "}\n",
    "\n",
    "# Save summary to CSV\n",
    "summary_df = pd.DataFrame([summary_data])\n",
    "summary_file = os.path.join(generator.output_dir, 'analysis_summary.csv')\n",
    "summary_df.to_csv(summary_file, index=False)\n",
    "\n",
    "print(f\"📋 Analysis summary saved to: {summary_file}\")\n",
    "print(\"\\nSession Summary:\")\n",
    "for key, value in summary_data.items():\n",
    "    print(f\"  {key}: {value}\")\n",
    "\n",
    "# Display the summary as a formatted table\n",
    "print(\"\\n📊 Summary Table:\")\n",
    "display(summary_df)"
   ]
  },
  {
   "cell_type": "markdown",
   "metadata": {},
   "source": [
    "## Next Steps\n",
    "\n",
    "This advanced notebook demonstrated:\n",
    "\n",
    "- ✅ Custom configuration setup\n",
    "- ✅ Batch processing multiple counties\n",
    "- ✅ Data analysis and visualization\n",
    "- ✅ Report type customization\n",
    "- ✅ System diagnostics and troubleshooting\n",
    "- ✅ Session summary and export\n",
    "\n",
    "### For Production Use:\n",
    "\n",
    "1. **Data Preparation**: Ensure all input data files are available and properly formatted\n",
    "2. **System Requirements**: Install all dependencies including `wkhtmltopdf` for PDF generation\n",
    "3. **Network Access**: Enable internet connectivity for real data fetching\n",
    "4. **Resource Planning**: Monitor memory and CPU usage for large batch operations\n",
    "5. **Error Handling**: Implement additional error handling for production workflows\n",
    "\n",
    "### Performance Tips:\n",
    "\n",
    "- Process counties in smaller batches to manage memory usage\n",
    "- Use offline mode when possible to reduce network dependencies\n",
    "- Monitor disk space as reports can generate many files\n",
    "- Consider using parallel processing for independent county operations"
   ]
  }
 ],
 "metadata": {
  "kernelspec": {
   "display_name": "Python 3",
   "language": "python",
   "name": "python3"
  },
  "language_info": {
   "codemirror_mode": {
    "name": "ipython",
    "version": 3
   },
   "file_extension": ".py",
   "mimetype": "text/x-python",
   "name": "python",
   "nbconvert_exporter": "python",
   "pygments_lexer": "ipython3",
   "version": "3.8.5"
  }
 },
 "nbformat": 4,
 "nbformat_minor": 4
}