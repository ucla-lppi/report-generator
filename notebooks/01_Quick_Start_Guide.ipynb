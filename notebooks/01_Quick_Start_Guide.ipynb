{
 "cells": [
  {
   "cell_type": "markdown",
   "metadata": {},
   "source": [
    "# UCLA LPPI Report Generator - Quick Start Guide\n",
    "\n",
    "This notebook demonstrates how to use the UCLA LPPI Report Generator to create environmental health disparity reports comparing Latino and Non-Latino White populations across California counties.\n",
    "\n",
    "## What this tool does\n",
    "\n",
    "The Report Generator creates comprehensive reports that include:\n",
    "- Population demographic charts\n",
    "- Environmental heat exposure maps \n",
    "- Air pollution exposure maps\n",
    "- HTML and PDF reports with statistical comparisons\n",
    "\n",
    "## Prerequisites\n",
    "\n",
    "Make sure you have installed all required dependencies by running:\n",
    "```bash\n",
    "pip install -r requirements.txt\n",
    "```"
   ]
  },
  {
   "cell_type": "markdown",
   "metadata": {},
   "source": [
    "## Step 1: Import the Report Generator"
   ]
  },
  {
   "cell_type": "code",
   "execution_count": null,
   "metadata": {},
   "outputs": [],
   "source": [
    "# Import the main report generator class\n",
    "from report_generator import ReportGenerator, quick_demo\n",
    "\n",
    "# Also import some utilities for display\n",
    "import os\n",
    "from IPython.display import display, HTML, Image\n",
    "import pandas as pd\n",
    "\n",
    "print(\"✅ Report Generator imported successfully!\")"
   ]
  },
  {
   "cell_type": "markdown",
   "metadata": {},
   "source": [
    "## Step 2: Quick Demo (Offline Mode)\n",
    "\n",
    "Let's start with a quick demo that doesn't require internet connectivity:"
   ]
  },
  {
   "cell_type": "code",
   "execution_count": null,
   "metadata": {},
   "outputs": [],
   "source": [
    "# Run a quick demo in offline mode\n",
    "demo_results = quick_demo(offline_mode=True)\n",
    "\n",
    "print(\"Demo Results:\")\n",
    "for key, value in demo_results.items():\n",
    "    if key != 'files_generated':\n",
    "        print(f\"{key}: {value}\")\n",
    "    else:\n",
    "        print(f\"files_generated: {len(value)} files\")"
   ]
  },
  {
   "cell_type": "markdown",
   "metadata": {},
   "source": [
    "## Step 3: Initialize the Report Generator\n",
    "\n",
    "Create a new report generator instance with custom settings:"
   ]
  },
  {
   "cell_type": "code",
   "execution_count": null,
   "metadata": {},
   "outputs": [],
   "source": [
    "# Initialize the report generator\n",
    "generator = ReportGenerator()\n",
    "\n",
    "# Load data (in offline mode for this demo)\n",
    "generator.load_data(offline_mode=True)\n",
    "\n",
    "print(\"Available counties:\")\n",
    "available_counties = generator.list_available_counties()\n",
    "for county in available_counties:\n",
    "    print(f\"  - {county}\")"
   ]
  },
  {
   "cell_type": "markdown",
   "metadata": {},
   "source": [
    "## Step 4: Generate Reports Step by Step\n",
    "\n",
    "You can generate different components individually:"
   ]
  },
  {
   "cell_type": "code",
   "execution_count": null,
   "metadata": {},
   "outputs": [],
   "source": [
    "# Select counties to process\n",
    "counties_to_process = ['Los Angeles']  # Start with just one county\n",
    "\n",
    "# Step-by-step generation\n",
    "print(\"📊 Generating population charts...\")\n",
    "generator.generate_population_charts(counties_to_process)\n",
    "\n",
    "print(\"\\n📄 Generating HTML reports...\")\n",
    "generator.generate_html_reports('all', counties_to_process)\n",
    "\n",
    "print(\"\\n✅ Step-by-step generation complete!\")"
   ]
  },
  {
   "cell_type": "markdown",
   "metadata": {},
   "source": [
    "## Step 5: Full Report Generation\n",
    "\n",
    "Or generate everything at once:"
   ]
  },
  {
   "cell_type": "code",
   "execution_count": null,
   "metadata": {},
   "outputs": [],
   "source": [
    "# Generate complete reports for specific counties\n",
    "results = generator.generate_full_report(\n",
    "    counties=['Los Angeles'],  # Specify counties or None for all\n",
    "    include_pdfs=False,        # Set to True if you have wkhtmltopdf installed\n",
    "    offline_mode=True          # Set to False if you have internet connectivity\n",
    ")\n",
    "\n",
    "# Display results\n",
    "print(\"\\n📊 Generation Results:\")\n",
    "print(f\"Counties processed: {results['counties_processed']}\")\n",
    "print(f\"Output directory: {results['output_directory']}\")\n",
    "print(f\"Files generated: {len(results.get('files_generated', []))}\")\n",
    "\n",
    "if 'error' in results:\n",
    "    print(f\"Error: {results['error']}\")"
   ]
  },
  {
   "cell_type": "markdown",
   "metadata": {},
   "source": [
    "## Step 6: View Generated Files\n",
    "\n",
    "Let's explore what files were created:"
   ]
  },
  {
   "cell_type": "code",
   "execution_count": null,
   "metadata": {},
   "outputs": [],
   "source": [
    "# List generated files\n",
    "output_dir = results['output_directory']\n",
    "\n",
    "print(\"📁 Generated Files:\")\n",
    "for root, dirs, files in os.walk(output_dir):\n",
    "    level = root.replace(output_dir, '').count(os.sep)\n",
    "    indent = ' ' * 2 * level\n",
    "    print(f\"{indent}{os.path.basename(root)}/\")\n",
    "    subindent = ' ' * 2 * (level + 1)\n",
    "    for file in files[:5]:  # Limit to first 5 files per directory\n",
    "        print(f\"{subindent}{file}\")\n",
    "    if len(files) > 5:\n",
    "        print(f\"{subindent}... and {len(files) - 5} more files\")"
   ]
  },
  {
   "cell_type": "markdown",
   "metadata": {},
   "source": [
    "## Step 7: Display Sample Output\n",
    "\n",
    "If any HTML files were generated, let's display a sample:"
   ]
  },
  {
   "cell_type": "code",
   "execution_count": null,
   "metadata": {},
   "outputs": [],
   "source": [
    "# Find and display HTML files\n",
    "html_files = []\n",
    "for root, dirs, files in os.walk(output_dir):\n",
    "    for file in files:\n",
    "        if file.endswith('.html'):\n",
    "            html_files.append(os.path.join(root, file))\n",
    "\n",
    "if html_files:\n",
    "    print(f\"Found {len(html_files)} HTML files:\")\n",
    "    for html_file in html_files[:3]:  # Show first 3\n",
    "        print(f\"  - {os.path.relpath(html_file, output_dir)}\")\n",
    "    \n",
    "    # Try to display the first HTML file (note: this may not work perfectly in all environments)\n",
    "    sample_file = html_files[0]\n",
    "    print(f\"\\n📖 Sample content from: {os.path.basename(sample_file)}\")\n",
    "    \n",
    "    try:\n",
    "        with open(sample_file, 'r', encoding='utf-8') as f:\n",
    "            content = f.read()[:1000]  # First 1000 characters\n",
    "            print(content + \"...\")\n",
    "    except Exception as e:\n",
    "        print(f\"Could not read file: {e}\")\n",
    "else:\n",
    "    print(\"No HTML files found. This is expected in offline mode.\")"
   ]
  },
  {
   "cell_type": "markdown",
   "metadata": {},
   "source": [
    "## Advanced Usage\n",
    "\n",
    "### Working with Real Data (Online Mode)\n",
    "\n",
    "When you have internet connectivity, you can work with real data:"
   ]
  },
  {
   "cell_type": "code",
   "execution_count": null,
   "metadata": {},
   "outputs": [],
   "source": [
    "# Uncomment and run this cell when you have internet connectivity\n",
    "\n",
    "# # Initialize with real data\n",
    "# online_generator = ReportGenerator()\n",
    "# online_generator.load_data(offline_mode=False)\n",
    "# \n",
    "# # Get county summary\n",
    "# counties = online_generator.list_available_counties()\n",
    "# print(f\"Available counties: {len(counties)}\")\n",
    "# \n",
    "# # Get summary for a specific county\n",
    "# if counties:\n",
    "#     summary = online_generator.get_county_summary(counties[0])\n",
    "#     print(f\"\\nSample county summary:\")\n",
    "#     for key, value in summary.items():\n",
    "#         print(f\"  {key}: {value}\")"
   ]
  },
  {
   "cell_type": "markdown",
   "metadata": {},
   "source": [
    "### Generating Specific Map Types"
   ]
  },
  {
   "cell_type": "code",
   "execution_count": null,
   "metadata": {},
   "outputs": [],
   "source": [
    "# Generate only heat maps (requires real data and input files)\n",
    "# generator.generate_heat_maps(['Los Angeles', 'San Diego'])\n",
    "\n",
    "# Generate only air pollution maps\n",
    "# generator.generate_air_pollution_maps(['Los Angeles'])\n",
    "\n",
    "print(\"Map generation examples (commented out for offline demo)\")\n",
    "print(\"Uncomment the lines above when you have the required input data files.\")"
   ]
  },
  {
   "cell_type": "markdown",
   "metadata": {},
   "source": [
    "## Summary\n",
    "\n",
    "This notebook demonstrated:\n",
    "\n",
    "1. ✅ How to import and initialize the Report Generator\n",
    "2. ✅ Running a quick demo in offline mode\n",
    "3. ✅ Loading data and listing available counties\n",
    "4. ✅ Generating reports step by step\n",
    "5. ✅ Generating complete reports at once\n",
    "6. ✅ Viewing generated output files\n",
    "\n",
    "### Next Steps\n",
    "\n",
    "- **For real usage**: Run with `offline_mode=False` and ensure you have all input data files\n",
    "- **For PDF generation**: Install `wkhtmltopdf` and set `include_pdfs=True`\n",
    "- **For custom analysis**: Use the individual generation methods to create specific outputs\n",
    "\n",
    "### Getting Help\n",
    "\n",
    "- Check the main README.md for setup instructions\n",
    "- See the Methodology document for understanding the analysis\n",
    "- Use `help(ReportGenerator)` for detailed API documentation"
   ]
  }
 ],
 "metadata": {
  "kernelspec": {
   "display_name": "Python 3",
   "language": "python",
   "name": "python3"
  },
  "language_info": {
   "codemirror_mode": {
    "name": "ipython",
    "version": 3
   },
   "file_extension": ".py",
   "mimetype": "text/x-python",
   "name": "python",
   "nbconvert_exporter": "python",
   "pygments_lexer": "ipython3",
   "version": "3.8.5"
  }
 },
 "nbformat": 4,
 "nbformat_minor": 4
}